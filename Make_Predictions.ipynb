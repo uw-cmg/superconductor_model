{
 "cells": [
  {
   "cell_type": "code",
   "execution_count": 1,
   "metadata": {},
   "outputs": [
    {
     "name": "stdout",
     "output_type": "stream",
     "text": [
      "matminer is an optional dependency. To install matminer, do pip install matminer\n",
      "Dropping 5/440 generated columns due to missing values\n"
     ]
    },
    {
     "data": {
      "text/plain": [
       "{'Ba0.4K0.6Fe2As2': 3.340206110021957,\n",
       " 'Ca0.4Ba1.25La1.25Cu3O6.98': 3.882331631742202,\n",
       " 'La1.71Sr0.29Cu0.94Co0.06O4': 3.479572643450991,\n",
       " 'Nb3Sn0.85Tl0.15': 2.8945525653289867}"
      ]
     },
     "execution_count": 1,
     "metadata": {},
     "output_type": "execute_result"
    }
   ],
   "source": [
    "from mastml_predictor import run_prediction\n",
    "\n",
    "comps = ['Ba0.4K0.6Fe2As2', 'Ca0.4Ba1.25La1.25Cu3O6.98', 'La1.71Sr0.29Cu0.94Co0.06O4', 'Nb3Sn0.85Tl0.15']\n",
    "pred_dict = run_prediction(prediction_input=comps)\n",
    "pred_dict"
   ]
  },
  {
   "cell_type": "code",
   "execution_count": 12,
   "metadata": {},
   "outputs": [],
   "source": [
    "# Get list of the 6252 materials in the training data set\n",
    "import pandas as pd\n",
    "import numpy as np\n",
    "df = pd.read_excel('comps_and_data.xlsx')\n",
    "all_comps = list(np.array(df['name']))"
   ]
  },
  {
   "cell_type": "code",
   "execution_count": 13,
   "metadata": {},
   "outputs": [
    {
     "name": "stdout",
     "output_type": "stream",
     "text": [
      "Dropping 5/440 generated columns due to missing values\n"
     ]
    },
    {
     "data": {
      "text/plain": [
       "datetime.timedelta(seconds=473, microseconds=293365)"
      ]
     },
     "execution_count": 13,
     "metadata": {},
     "output_type": "execute_result"
    }
   ],
   "source": [
    "# Predict each of the 6252 materials in the training data set\n",
    "import datetime\n",
    "time1 = datetime.datetime.now()\n",
    "big_pred_dict = run_prediction(prediction_input=all_comps)\n",
    "time2 = datetime.datetime.now()\n",
    "total_time = time2-time1\n",
    "total_time"
   ]
  },
  {
   "cell_type": "code",
   "execution_count": null,
   "metadata": {},
   "outputs": [],
   "source": []
  }
 ],
 "metadata": {
  "kernelspec": {
   "display_name": "Python 3",
   "language": "python",
   "name": "python3"
  },
  "language_info": {
   "codemirror_mode": {
    "name": "ipython",
    "version": 3
   },
   "file_extension": ".py",
   "mimetype": "text/x-python",
   "name": "python",
   "nbconvert_exporter": "python",
   "pygments_lexer": "ipython3",
   "version": "3.7.4"
  }
 },
 "nbformat": 4,
 "nbformat_minor": 2
}
